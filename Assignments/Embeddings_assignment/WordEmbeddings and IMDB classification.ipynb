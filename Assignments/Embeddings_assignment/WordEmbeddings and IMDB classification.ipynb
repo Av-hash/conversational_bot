{
  "nbformat": 4,
  "nbformat_minor": 0,
  "metadata": {
    "colab": {
      "name": "WordEmbeddings.ipynb",
      "provenance": [],
      "collapsed_sections": []
    },
    "kernelspec": {
      "name": "python3",
      "display_name": "Python 3"
    },
    "accelerator": "GPU",
    "widgets": {
      "application/vnd.jupyter.widget-state+json": {
        "022903bf761c4d21baa71c073344e148": {
          "model_module": "@jupyter-widgets/controls",
          "model_name": "HBoxModel",
          "state": {
            "_view_name": "HBoxView",
            "_dom_classes": [],
            "_model_name": "HBoxModel",
            "_view_module": "@jupyter-widgets/controls",
            "_model_module_version": "1.5.0",
            "_view_count": null,
            "_view_module_version": "1.5.0",
            "box_style": "",
            "layout": "IPY_MODEL_594893c1432d49a4bddd45c2a43dcb53",
            "_model_module": "@jupyter-widgets/controls",
            "children": [
              "IPY_MODEL_5a301240207c4da9bb09af0528b4f3ed",
              "IPY_MODEL_086e11b811aa4daab18b53ac620fa384"
            ]
          }
        },
        "594893c1432d49a4bddd45c2a43dcb53": {
          "model_module": "@jupyter-widgets/base",
          "model_name": "LayoutModel",
          "state": {
            "_view_name": "LayoutView",
            "grid_template_rows": null,
            "right": null,
            "justify_content": null,
            "_view_module": "@jupyter-widgets/base",
            "overflow": null,
            "_model_module_version": "1.2.0",
            "_view_count": null,
            "flex_flow": null,
            "width": null,
            "min_width": null,
            "border": null,
            "align_items": null,
            "bottom": null,
            "_model_module": "@jupyter-widgets/base",
            "top": null,
            "grid_column": null,
            "overflow_y": null,
            "overflow_x": null,
            "grid_auto_flow": null,
            "grid_area": null,
            "grid_template_columns": null,
            "flex": null,
            "_model_name": "LayoutModel",
            "justify_items": null,
            "grid_row": null,
            "max_height": null,
            "align_content": null,
            "visibility": null,
            "align_self": null,
            "height": null,
            "min_height": null,
            "padding": null,
            "grid_auto_rows": null,
            "grid_gap": null,
            "max_width": null,
            "order": null,
            "_view_module_version": "1.2.0",
            "grid_template_areas": null,
            "object_position": null,
            "object_fit": null,
            "grid_auto_columns": null,
            "margin": null,
            "display": null,
            "left": null
          }
        },
        "5a301240207c4da9bb09af0528b4f3ed": {
          "model_module": "@jupyter-widgets/controls",
          "model_name": "FloatProgressModel",
          "state": {
            "_view_name": "ProgressView",
            "style": "IPY_MODEL_4ca87c46e8ea48eca20c54462f1d6f33",
            "_dom_classes": [],
            "description": "Dl Completed...: 100%",
            "_model_name": "FloatProgressModel",
            "bar_style": "success",
            "max": 1,
            "_view_module": "@jupyter-widgets/controls",
            "_model_module_version": "1.5.0",
            "value": 1,
            "_view_count": null,
            "_view_module_version": "1.5.0",
            "orientation": "horizontal",
            "min": 0,
            "description_tooltip": null,
            "_model_module": "@jupyter-widgets/controls",
            "layout": "IPY_MODEL_b281a375353e48fb9af4236d54e3d64f"
          }
        },
        "086e11b811aa4daab18b53ac620fa384": {
          "model_module": "@jupyter-widgets/controls",
          "model_name": "HTMLModel",
          "state": {
            "_view_name": "HTMLView",
            "style": "IPY_MODEL_1675170ef0b5428eb2ac7e8a2d7ed370",
            "_dom_classes": [],
            "description": "",
            "_model_name": "HTMLModel",
            "placeholder": "​",
            "_view_module": "@jupyter-widgets/controls",
            "_model_module_version": "1.5.0",
            "value": " 1/1 [00:07&lt;00:00,  7.92s/ url]",
            "_view_count": null,
            "_view_module_version": "1.5.0",
            "description_tooltip": null,
            "_model_module": "@jupyter-widgets/controls",
            "layout": "IPY_MODEL_cc7712ea22ec42ea8ad98c74fc2e1f67"
          }
        },
        "4ca87c46e8ea48eca20c54462f1d6f33": {
          "model_module": "@jupyter-widgets/controls",
          "model_name": "ProgressStyleModel",
          "state": {
            "_view_name": "StyleView",
            "_model_name": "ProgressStyleModel",
            "description_width": "initial",
            "_view_module": "@jupyter-widgets/base",
            "_model_module_version": "1.5.0",
            "_view_count": null,
            "_view_module_version": "1.2.0",
            "bar_color": null,
            "_model_module": "@jupyter-widgets/controls"
          }
        },
        "b281a375353e48fb9af4236d54e3d64f": {
          "model_module": "@jupyter-widgets/base",
          "model_name": "LayoutModel",
          "state": {
            "_view_name": "LayoutView",
            "grid_template_rows": null,
            "right": null,
            "justify_content": null,
            "_view_module": "@jupyter-widgets/base",
            "overflow": null,
            "_model_module_version": "1.2.0",
            "_view_count": null,
            "flex_flow": null,
            "width": null,
            "min_width": null,
            "border": null,
            "align_items": null,
            "bottom": null,
            "_model_module": "@jupyter-widgets/base",
            "top": null,
            "grid_column": null,
            "overflow_y": null,
            "overflow_x": null,
            "grid_auto_flow": null,
            "grid_area": null,
            "grid_template_columns": null,
            "flex": null,
            "_model_name": "LayoutModel",
            "justify_items": null,
            "grid_row": null,
            "max_height": null,
            "align_content": null,
            "visibility": null,
            "align_self": null,
            "height": null,
            "min_height": null,
            "padding": null,
            "grid_auto_rows": null,
            "grid_gap": null,
            "max_width": null,
            "order": null,
            "_view_module_version": "1.2.0",
            "grid_template_areas": null,
            "object_position": null,
            "object_fit": null,
            "grid_auto_columns": null,
            "margin": null,
            "display": null,
            "left": null
          }
        },
        "1675170ef0b5428eb2ac7e8a2d7ed370": {
          "model_module": "@jupyter-widgets/controls",
          "model_name": "DescriptionStyleModel",
          "state": {
            "_view_name": "StyleView",
            "_model_name": "DescriptionStyleModel",
            "description_width": "",
            "_view_module": "@jupyter-widgets/base",
            "_model_module_version": "1.5.0",
            "_view_count": null,
            "_view_module_version": "1.2.0",
            "_model_module": "@jupyter-widgets/controls"
          }
        },
        "cc7712ea22ec42ea8ad98c74fc2e1f67": {
          "model_module": "@jupyter-widgets/base",
          "model_name": "LayoutModel",
          "state": {
            "_view_name": "LayoutView",
            "grid_template_rows": null,
            "right": null,
            "justify_content": null,
            "_view_module": "@jupyter-widgets/base",
            "overflow": null,
            "_model_module_version": "1.2.0",
            "_view_count": null,
            "flex_flow": null,
            "width": null,
            "min_width": null,
            "border": null,
            "align_items": null,
            "bottom": null,
            "_model_module": "@jupyter-widgets/base",
            "top": null,
            "grid_column": null,
            "overflow_y": null,
            "overflow_x": null,
            "grid_auto_flow": null,
            "grid_area": null,
            "grid_template_columns": null,
            "flex": null,
            "_model_name": "LayoutModel",
            "justify_items": null,
            "grid_row": null,
            "max_height": null,
            "align_content": null,
            "visibility": null,
            "align_self": null,
            "height": null,
            "min_height": null,
            "padding": null,
            "grid_auto_rows": null,
            "grid_gap": null,
            "max_width": null,
            "order": null,
            "_view_module_version": "1.2.0",
            "grid_template_areas": null,
            "object_position": null,
            "object_fit": null,
            "grid_auto_columns": null,
            "margin": null,
            "display": null,
            "left": null
          }
        },
        "7ad32a823c7447429b5abde8cc1dd9ea": {
          "model_module": "@jupyter-widgets/controls",
          "model_name": "HBoxModel",
          "state": {
            "_view_name": "HBoxView",
            "_dom_classes": [],
            "_model_name": "HBoxModel",
            "_view_module": "@jupyter-widgets/controls",
            "_model_module_version": "1.5.0",
            "_view_count": null,
            "_view_module_version": "1.5.0",
            "box_style": "",
            "layout": "IPY_MODEL_f53d737f51d94c76bf5397c1c0bb6066",
            "_model_module": "@jupyter-widgets/controls",
            "children": [
              "IPY_MODEL_70a411e626d04526809f1fdab1fe7d15",
              "IPY_MODEL_5f62d0dec4fe4998bdb2f5f64a0a37c6"
            ]
          }
        },
        "f53d737f51d94c76bf5397c1c0bb6066": {
          "model_module": "@jupyter-widgets/base",
          "model_name": "LayoutModel",
          "state": {
            "_view_name": "LayoutView",
            "grid_template_rows": null,
            "right": null,
            "justify_content": null,
            "_view_module": "@jupyter-widgets/base",
            "overflow": null,
            "_model_module_version": "1.2.0",
            "_view_count": null,
            "flex_flow": null,
            "width": null,
            "min_width": null,
            "border": null,
            "align_items": null,
            "bottom": null,
            "_model_module": "@jupyter-widgets/base",
            "top": null,
            "grid_column": null,
            "overflow_y": null,
            "overflow_x": null,
            "grid_auto_flow": null,
            "grid_area": null,
            "grid_template_columns": null,
            "flex": null,
            "_model_name": "LayoutModel",
            "justify_items": null,
            "grid_row": null,
            "max_height": null,
            "align_content": null,
            "visibility": null,
            "align_self": null,
            "height": null,
            "min_height": null,
            "padding": null,
            "grid_auto_rows": null,
            "grid_gap": null,
            "max_width": null,
            "order": null,
            "_view_module_version": "1.2.0",
            "grid_template_areas": null,
            "object_position": null,
            "object_fit": null,
            "grid_auto_columns": null,
            "margin": null,
            "display": null,
            "left": null
          }
        },
        "70a411e626d04526809f1fdab1fe7d15": {
          "model_module": "@jupyter-widgets/controls",
          "model_name": "FloatProgressModel",
          "state": {
            "_view_name": "ProgressView",
            "style": "IPY_MODEL_4e0b117bbca1491c8868342e18c4818e",
            "_dom_classes": [],
            "description": "Dl Size...: 100%",
            "_model_name": "FloatProgressModel",
            "bar_style": "success",
            "max": 1,
            "_view_module": "@jupyter-widgets/controls",
            "_model_module_version": "1.5.0",
            "value": 1,
            "_view_count": null,
            "_view_module_version": "1.5.0",
            "orientation": "horizontal",
            "min": 0,
            "description_tooltip": null,
            "_model_module": "@jupyter-widgets/controls",
            "layout": "IPY_MODEL_e133479e674644c58c40f093febfcc05"
          }
        },
        "5f62d0dec4fe4998bdb2f5f64a0a37c6": {
          "model_module": "@jupyter-widgets/controls",
          "model_name": "HTMLModel",
          "state": {
            "_view_name": "HTMLView",
            "style": "IPY_MODEL_8477abb1e7fc47898f1b9fd1b109f19a",
            "_dom_classes": [],
            "description": "",
            "_model_name": "HTMLModel",
            "placeholder": "​",
            "_view_module": "@jupyter-widgets/controls",
            "_model_module_version": "1.5.0",
            "value": " 80/80 [00:07&lt;00:00, 10.15 MiB/s]",
            "_view_count": null,
            "_view_module_version": "1.5.0",
            "description_tooltip": null,
            "_model_module": "@jupyter-widgets/controls",
            "layout": "IPY_MODEL_15e7f1c8bf4c45bf80b8e9961d89a923"
          }
        },
        "4e0b117bbca1491c8868342e18c4818e": {
          "model_module": "@jupyter-widgets/controls",
          "model_name": "ProgressStyleModel",
          "state": {
            "_view_name": "StyleView",
            "_model_name": "ProgressStyleModel",
            "description_width": "initial",
            "_view_module": "@jupyter-widgets/base",
            "_model_module_version": "1.5.0",
            "_view_count": null,
            "_view_module_version": "1.2.0",
            "bar_color": null,
            "_model_module": "@jupyter-widgets/controls"
          }
        },
        "e133479e674644c58c40f093febfcc05": {
          "model_module": "@jupyter-widgets/base",
          "model_name": "LayoutModel",
          "state": {
            "_view_name": "LayoutView",
            "grid_template_rows": null,
            "right": null,
            "justify_content": null,
            "_view_module": "@jupyter-widgets/base",
            "overflow": null,
            "_model_module_version": "1.2.0",
            "_view_count": null,
            "flex_flow": null,
            "width": null,
            "min_width": null,
            "border": null,
            "align_items": null,
            "bottom": null,
            "_model_module": "@jupyter-widgets/base",
            "top": null,
            "grid_column": null,
            "overflow_y": null,
            "overflow_x": null,
            "grid_auto_flow": null,
            "grid_area": null,
            "grid_template_columns": null,
            "flex": null,
            "_model_name": "LayoutModel",
            "justify_items": null,
            "grid_row": null,
            "max_height": null,
            "align_content": null,
            "visibility": null,
            "align_self": null,
            "height": null,
            "min_height": null,
            "padding": null,
            "grid_auto_rows": null,
            "grid_gap": null,
            "max_width": null,
            "order": null,
            "_view_module_version": "1.2.0",
            "grid_template_areas": null,
            "object_position": null,
            "object_fit": null,
            "grid_auto_columns": null,
            "margin": null,
            "display": null,
            "left": null
          }
        },
        "8477abb1e7fc47898f1b9fd1b109f19a": {
          "model_module": "@jupyter-widgets/controls",
          "model_name": "DescriptionStyleModel",
          "state": {
            "_view_name": "StyleView",
            "_model_name": "DescriptionStyleModel",
            "description_width": "",
            "_view_module": "@jupyter-widgets/base",
            "_model_module_version": "1.5.0",
            "_view_count": null,
            "_view_module_version": "1.2.0",
            "_model_module": "@jupyter-widgets/controls"
          }
        },
        "15e7f1c8bf4c45bf80b8e9961d89a923": {
          "model_module": "@jupyter-widgets/base",
          "model_name": "LayoutModel",
          "state": {
            "_view_name": "LayoutView",
            "grid_template_rows": null,
            "right": null,
            "justify_content": null,
            "_view_module": "@jupyter-widgets/base",
            "overflow": null,
            "_model_module_version": "1.2.0",
            "_view_count": null,
            "flex_flow": null,
            "width": null,
            "min_width": null,
            "border": null,
            "align_items": null,
            "bottom": null,
            "_model_module": "@jupyter-widgets/base",
            "top": null,
            "grid_column": null,
            "overflow_y": null,
            "overflow_x": null,
            "grid_auto_flow": null,
            "grid_area": null,
            "grid_template_columns": null,
            "flex": null,
            "_model_name": "LayoutModel",
            "justify_items": null,
            "grid_row": null,
            "max_height": null,
            "align_content": null,
            "visibility": null,
            "align_self": null,
            "height": null,
            "min_height": null,
            "padding": null,
            "grid_auto_rows": null,
            "grid_gap": null,
            "max_width": null,
            "order": null,
            "_view_module_version": "1.2.0",
            "grid_template_areas": null,
            "object_position": null,
            "object_fit": null,
            "grid_auto_columns": null,
            "margin": null,
            "display": null,
            "left": null
          }
        },
        "36af846c39bc4b27afb81a7662e2413c": {
          "model_module": "@jupyter-widgets/controls",
          "model_name": "HBoxModel",
          "state": {
            "_view_name": "HBoxView",
            "_dom_classes": [],
            "_model_name": "HBoxModel",
            "_view_module": "@jupyter-widgets/controls",
            "_model_module_version": "1.5.0",
            "_view_count": null,
            "_view_module_version": "1.5.0",
            "box_style": "",
            "layout": "IPY_MODEL_6e7c2010448c463d9b547d9368684dbd",
            "_model_module": "@jupyter-widgets/controls",
            "children": [
              "IPY_MODEL_74dc4ca3860644cf87df95c310c725e0",
              "IPY_MODEL_fca090dbcfa444e4be96c2e8194e5124"
            ]
          }
        },
        "6e7c2010448c463d9b547d9368684dbd": {
          "model_module": "@jupyter-widgets/base",
          "model_name": "LayoutModel",
          "state": {
            "_view_name": "LayoutView",
            "grid_template_rows": null,
            "right": null,
            "justify_content": null,
            "_view_module": "@jupyter-widgets/base",
            "overflow": null,
            "_model_module_version": "1.2.0",
            "_view_count": null,
            "flex_flow": null,
            "width": null,
            "min_width": null,
            "border": null,
            "align_items": null,
            "bottom": null,
            "_model_module": "@jupyter-widgets/base",
            "top": null,
            "grid_column": null,
            "overflow_y": null,
            "overflow_x": null,
            "grid_auto_flow": null,
            "grid_area": null,
            "grid_template_columns": null,
            "flex": null,
            "_model_name": "LayoutModel",
            "justify_items": null,
            "grid_row": null,
            "max_height": null,
            "align_content": null,
            "visibility": null,
            "align_self": null,
            "height": null,
            "min_height": null,
            "padding": null,
            "grid_auto_rows": null,
            "grid_gap": null,
            "max_width": null,
            "order": null,
            "_view_module_version": "1.2.0",
            "grid_template_areas": null,
            "object_position": null,
            "object_fit": null,
            "grid_auto_columns": null,
            "margin": null,
            "display": null,
            "left": null
          }
        },
        "74dc4ca3860644cf87df95c310c725e0": {
          "model_module": "@jupyter-widgets/controls",
          "model_name": "FloatProgressModel",
          "state": {
            "_view_name": "ProgressView",
            "style": "IPY_MODEL_dc3548f7864d4d48bae329deb7cb8a71",
            "_dom_classes": [],
            "description": "",
            "_model_name": "FloatProgressModel",
            "bar_style": "info",
            "max": 1,
            "_view_module": "@jupyter-widgets/controls",
            "_model_module_version": "1.5.0",
            "value": 1,
            "_view_count": null,
            "_view_module_version": "1.5.0",
            "orientation": "horizontal",
            "min": 0,
            "description_tooltip": null,
            "_model_module": "@jupyter-widgets/controls",
            "layout": "IPY_MODEL_65eaa5fb754744e290c345eb569152d4"
          }
        },
        "fca090dbcfa444e4be96c2e8194e5124": {
          "model_module": "@jupyter-widgets/controls",
          "model_name": "HTMLModel",
          "state": {
            "_view_name": "HTMLView",
            "style": "IPY_MODEL_dbb58d55c07c463e8841511ea152e54e",
            "_dom_classes": [],
            "description": "",
            "_model_name": "HTMLModel",
            "placeholder": "​",
            "_view_module": "@jupyter-widgets/controls",
            "_model_module_version": "1.5.0",
            "value": " 25000/0 [00:12&lt;00:00, 3235.60 examples/s]",
            "_view_count": null,
            "_view_module_version": "1.5.0",
            "description_tooltip": null,
            "_model_module": "@jupyter-widgets/controls",
            "layout": "IPY_MODEL_656c6fd8512d4c4aa2d9960533e34d90"
          }
        },
        "dc3548f7864d4d48bae329deb7cb8a71": {
          "model_module": "@jupyter-widgets/controls",
          "model_name": "ProgressStyleModel",
          "state": {
            "_view_name": "StyleView",
            "_model_name": "ProgressStyleModel",
            "description_width": "initial",
            "_view_module": "@jupyter-widgets/base",
            "_model_module_version": "1.5.0",
            "_view_count": null,
            "_view_module_version": "1.2.0",
            "bar_color": null,
            "_model_module": "@jupyter-widgets/controls"
          }
        },
        "65eaa5fb754744e290c345eb569152d4": {
          "model_module": "@jupyter-widgets/base",
          "model_name": "LayoutModel",
          "state": {
            "_view_name": "LayoutView",
            "grid_template_rows": null,
            "right": null,
            "justify_content": null,
            "_view_module": "@jupyter-widgets/base",
            "overflow": null,
            "_model_module_version": "1.2.0",
            "_view_count": null,
            "flex_flow": null,
            "width": null,
            "min_width": null,
            "border": null,
            "align_items": null,
            "bottom": null,
            "_model_module": "@jupyter-widgets/base",
            "top": null,
            "grid_column": null,
            "overflow_y": null,
            "overflow_x": null,
            "grid_auto_flow": null,
            "grid_area": null,
            "grid_template_columns": null,
            "flex": null,
            "_model_name": "LayoutModel",
            "justify_items": null,
            "grid_row": null,
            "max_height": null,
            "align_content": null,
            "visibility": null,
            "align_self": null,
            "height": null,
            "min_height": null,
            "padding": null,
            "grid_auto_rows": null,
            "grid_gap": null,
            "max_width": null,
            "order": null,
            "_view_module_version": "1.2.0",
            "grid_template_areas": null,
            "object_position": null,
            "object_fit": null,
            "grid_auto_columns": null,
            "margin": null,
            "display": null,
            "left": null
          }
        },
        "dbb58d55c07c463e8841511ea152e54e": {
          "model_module": "@jupyter-widgets/controls",
          "model_name": "DescriptionStyleModel",
          "state": {
            "_view_name": "StyleView",
            "_model_name": "DescriptionStyleModel",
            "description_width": "",
            "_view_module": "@jupyter-widgets/base",
            "_model_module_version": "1.5.0",
            "_view_count": null,
            "_view_module_version": "1.2.0",
            "_model_module": "@jupyter-widgets/controls"
          }
        },
        "656c6fd8512d4c4aa2d9960533e34d90": {
          "model_module": "@jupyter-widgets/base",
          "model_name": "LayoutModel",
          "state": {
            "_view_name": "LayoutView",
            "grid_template_rows": null,
            "right": null,
            "justify_content": null,
            "_view_module": "@jupyter-widgets/base",
            "overflow": null,
            "_model_module_version": "1.2.0",
            "_view_count": null,
            "flex_flow": null,
            "width": null,
            "min_width": null,
            "border": null,
            "align_items": null,
            "bottom": null,
            "_model_module": "@jupyter-widgets/base",
            "top": null,
            "grid_column": null,
            "overflow_y": null,
            "overflow_x": null,
            "grid_auto_flow": null,
            "grid_area": null,
            "grid_template_columns": null,
            "flex": null,
            "_model_name": "LayoutModel",
            "justify_items": null,
            "grid_row": null,
            "max_height": null,
            "align_content": null,
            "visibility": null,
            "align_self": null,
            "height": null,
            "min_height": null,
            "padding": null,
            "grid_auto_rows": null,
            "grid_gap": null,
            "max_width": null,
            "order": null,
            "_view_module_version": "1.2.0",
            "grid_template_areas": null,
            "object_position": null,
            "object_fit": null,
            "grid_auto_columns": null,
            "margin": null,
            "display": null,
            "left": null
          }
        },
        "88bbd0e395ef4d7aa80a98e3883a527b": {
          "model_module": "@jupyter-widgets/controls",
          "model_name": "HBoxModel",
          "state": {
            "_view_name": "HBoxView",
            "_dom_classes": [],
            "_model_name": "HBoxModel",
            "_view_module": "@jupyter-widgets/controls",
            "_model_module_version": "1.5.0",
            "_view_count": null,
            "_view_module_version": "1.5.0",
            "box_style": "",
            "layout": "IPY_MODEL_69cca19b19a145debd60e7d6da9220a7",
            "_model_module": "@jupyter-widgets/controls",
            "children": [
              "IPY_MODEL_c4ec744cc38144cda9dea9f3e30db6c0",
              "IPY_MODEL_a6bb623d33c24844b6b0f2a684a1464a"
            ]
          }
        },
        "69cca19b19a145debd60e7d6da9220a7": {
          "model_module": "@jupyter-widgets/base",
          "model_name": "LayoutModel",
          "state": {
            "_view_name": "LayoutView",
            "grid_template_rows": null,
            "right": null,
            "justify_content": null,
            "_view_module": "@jupyter-widgets/base",
            "overflow": null,
            "_model_module_version": "1.2.0",
            "_view_count": null,
            "flex_flow": null,
            "width": null,
            "min_width": null,
            "border": null,
            "align_items": null,
            "bottom": null,
            "_model_module": "@jupyter-widgets/base",
            "top": null,
            "grid_column": null,
            "overflow_y": null,
            "overflow_x": null,
            "grid_auto_flow": null,
            "grid_area": null,
            "grid_template_columns": null,
            "flex": null,
            "_model_name": "LayoutModel",
            "justify_items": null,
            "grid_row": null,
            "max_height": null,
            "align_content": null,
            "visibility": null,
            "align_self": null,
            "height": null,
            "min_height": null,
            "padding": null,
            "grid_auto_rows": null,
            "grid_gap": null,
            "max_width": null,
            "order": null,
            "_view_module_version": "1.2.0",
            "grid_template_areas": null,
            "object_position": null,
            "object_fit": null,
            "grid_auto_columns": null,
            "margin": null,
            "display": null,
            "left": null
          }
        },
        "c4ec744cc38144cda9dea9f3e30db6c0": {
          "model_module": "@jupyter-widgets/controls",
          "model_name": "FloatProgressModel",
          "state": {
            "_view_name": "ProgressView",
            "style": "IPY_MODEL_dcb55d555b8340b38774b5839b36dab9",
            "_dom_classes": [],
            "description": " 38%",
            "_model_name": "FloatProgressModel",
            "bar_style": "danger",
            "max": 25000,
            "_view_module": "@jupyter-widgets/controls",
            "_model_module_version": "1.5.0",
            "value": 9487,
            "_view_count": null,
            "_view_module_version": "1.5.0",
            "orientation": "horizontal",
            "min": 0,
            "description_tooltip": null,
            "_model_module": "@jupyter-widgets/controls",
            "layout": "IPY_MODEL_9caeedd03b384c4c90f736efc1e0a4ff"
          }
        },
        "a6bb623d33c24844b6b0f2a684a1464a": {
          "model_module": "@jupyter-widgets/controls",
          "model_name": "HTMLModel",
          "state": {
            "_view_name": "HTMLView",
            "style": "IPY_MODEL_749f15569d9d4da0b05f202a1156a54f",
            "_dom_classes": [],
            "description": "",
            "_model_name": "HTMLModel",
            "placeholder": "​",
            "_view_module": "@jupyter-widgets/controls",
            "_model_module_version": "1.5.0",
            "value": " 9487/25000 [00:00&lt;00:00, 94869.86 examples/s]",
            "_view_count": null,
            "_view_module_version": "1.5.0",
            "description_tooltip": null,
            "_model_module": "@jupyter-widgets/controls",
            "layout": "IPY_MODEL_6677057afd544ca38cda38e8f2c9a47f"
          }
        },
        "dcb55d555b8340b38774b5839b36dab9": {
          "model_module": "@jupyter-widgets/controls",
          "model_name": "ProgressStyleModel",
          "state": {
            "_view_name": "StyleView",
            "_model_name": "ProgressStyleModel",
            "description_width": "initial",
            "_view_module": "@jupyter-widgets/base",
            "_model_module_version": "1.5.0",
            "_view_count": null,
            "_view_module_version": "1.2.0",
            "bar_color": null,
            "_model_module": "@jupyter-widgets/controls"
          }
        },
        "9caeedd03b384c4c90f736efc1e0a4ff": {
          "model_module": "@jupyter-widgets/base",
          "model_name": "LayoutModel",
          "state": {
            "_view_name": "LayoutView",
            "grid_template_rows": null,
            "right": null,
            "justify_content": null,
            "_view_module": "@jupyter-widgets/base",
            "overflow": null,
            "_model_module_version": "1.2.0",
            "_view_count": null,
            "flex_flow": null,
            "width": null,
            "min_width": null,
            "border": null,
            "align_items": null,
            "bottom": null,
            "_model_module": "@jupyter-widgets/base",
            "top": null,
            "grid_column": null,
            "overflow_y": null,
            "overflow_x": null,
            "grid_auto_flow": null,
            "grid_area": null,
            "grid_template_columns": null,
            "flex": null,
            "_model_name": "LayoutModel",
            "justify_items": null,
            "grid_row": null,
            "max_height": null,
            "align_content": null,
            "visibility": null,
            "align_self": null,
            "height": null,
            "min_height": null,
            "padding": null,
            "grid_auto_rows": null,
            "grid_gap": null,
            "max_width": null,
            "order": null,
            "_view_module_version": "1.2.0",
            "grid_template_areas": null,
            "object_position": null,
            "object_fit": null,
            "grid_auto_columns": null,
            "margin": null,
            "display": null,
            "left": null
          }
        },
        "749f15569d9d4da0b05f202a1156a54f": {
          "model_module": "@jupyter-widgets/controls",
          "model_name": "DescriptionStyleModel",
          "state": {
            "_view_name": "StyleView",
            "_model_name": "DescriptionStyleModel",
            "description_width": "",
            "_view_module": "@jupyter-widgets/base",
            "_model_module_version": "1.5.0",
            "_view_count": null,
            "_view_module_version": "1.2.0",
            "_model_module": "@jupyter-widgets/controls"
          }
        },
        "6677057afd544ca38cda38e8f2c9a47f": {
          "model_module": "@jupyter-widgets/base",
          "model_name": "LayoutModel",
          "state": {
            "_view_name": "LayoutView",
            "grid_template_rows": null,
            "right": null,
            "justify_content": null,
            "_view_module": "@jupyter-widgets/base",
            "overflow": null,
            "_model_module_version": "1.2.0",
            "_view_count": null,
            "flex_flow": null,
            "width": null,
            "min_width": null,
            "border": null,
            "align_items": null,
            "bottom": null,
            "_model_module": "@jupyter-widgets/base",
            "top": null,
            "grid_column": null,
            "overflow_y": null,
            "overflow_x": null,
            "grid_auto_flow": null,
            "grid_area": null,
            "grid_template_columns": null,
            "flex": null,
            "_model_name": "LayoutModel",
            "justify_items": null,
            "grid_row": null,
            "max_height": null,
            "align_content": null,
            "visibility": null,
            "align_self": null,
            "height": null,
            "min_height": null,
            "padding": null,
            "grid_auto_rows": null,
            "grid_gap": null,
            "max_width": null,
            "order": null,
            "_view_module_version": "1.2.0",
            "grid_template_areas": null,
            "object_position": null,
            "object_fit": null,
            "grid_auto_columns": null,
            "margin": null,
            "display": null,
            "left": null
          }
        },
        "94db5004e30542768fedd7ced403f883": {
          "model_module": "@jupyter-widgets/controls",
          "model_name": "HBoxModel",
          "state": {
            "_view_name": "HBoxView",
            "_dom_classes": [],
            "_model_name": "HBoxModel",
            "_view_module": "@jupyter-widgets/controls",
            "_model_module_version": "1.5.0",
            "_view_count": null,
            "_view_module_version": "1.5.0",
            "box_style": "",
            "layout": "IPY_MODEL_6ed488abc92c4de989d377b3ecf3ea78",
            "_model_module": "@jupyter-widgets/controls",
            "children": [
              "IPY_MODEL_35cc0ee4b4024cb5880da78ed8a94a7f",
              "IPY_MODEL_aa4fe5ba4c514cceaeaeafa0a0db1357"
            ]
          }
        },
        "6ed488abc92c4de989d377b3ecf3ea78": {
          "model_module": "@jupyter-widgets/base",
          "model_name": "LayoutModel",
          "state": {
            "_view_name": "LayoutView",
            "grid_template_rows": null,
            "right": null,
            "justify_content": null,
            "_view_module": "@jupyter-widgets/base",
            "overflow": null,
            "_model_module_version": "1.2.0",
            "_view_count": null,
            "flex_flow": null,
            "width": null,
            "min_width": null,
            "border": null,
            "align_items": null,
            "bottom": null,
            "_model_module": "@jupyter-widgets/base",
            "top": null,
            "grid_column": null,
            "overflow_y": null,
            "overflow_x": null,
            "grid_auto_flow": null,
            "grid_area": null,
            "grid_template_columns": null,
            "flex": null,
            "_model_name": "LayoutModel",
            "justify_items": null,
            "grid_row": null,
            "max_height": null,
            "align_content": null,
            "visibility": null,
            "align_self": null,
            "height": null,
            "min_height": null,
            "padding": null,
            "grid_auto_rows": null,
            "grid_gap": null,
            "max_width": null,
            "order": null,
            "_view_module_version": "1.2.0",
            "grid_template_areas": null,
            "object_position": null,
            "object_fit": null,
            "grid_auto_columns": null,
            "margin": null,
            "display": null,
            "left": null
          }
        },
        "35cc0ee4b4024cb5880da78ed8a94a7f": {
          "model_module": "@jupyter-widgets/controls",
          "model_name": "FloatProgressModel",
          "state": {
            "_view_name": "ProgressView",
            "style": "IPY_MODEL_25c5f3bd157a464286c5eff11126bca1",
            "_dom_classes": [],
            "description": "",
            "_model_name": "FloatProgressModel",
            "bar_style": "info",
            "max": 1,
            "_view_module": "@jupyter-widgets/controls",
            "_model_module_version": "1.5.0",
            "value": 1,
            "_view_count": null,
            "_view_module_version": "1.5.0",
            "orientation": "horizontal",
            "min": 0,
            "description_tooltip": null,
            "_model_module": "@jupyter-widgets/controls",
            "layout": "IPY_MODEL_c1530834a2784978b4a0d2cd11eec7c0"
          }
        },
        "aa4fe5ba4c514cceaeaeafa0a0db1357": {
          "model_module": "@jupyter-widgets/controls",
          "model_name": "HTMLModel",
          "state": {
            "_view_name": "HTMLView",
            "style": "IPY_MODEL_f8a5c1bbe6b04877b4abe571489e1c3c",
            "_dom_classes": [],
            "description": "",
            "_model_name": "HTMLModel",
            "placeholder": "​",
            "_view_module": "@jupyter-widgets/controls",
            "_model_module_version": "1.5.0",
            "value": " 25000/0 [00:12&lt;00:00, 3516.96 examples/s]",
            "_view_count": null,
            "_view_module_version": "1.5.0",
            "description_tooltip": null,
            "_model_module": "@jupyter-widgets/controls",
            "layout": "IPY_MODEL_6576e5760af845f9b49016159395d7ad"
          }
        },
        "25c5f3bd157a464286c5eff11126bca1": {
          "model_module": "@jupyter-widgets/controls",
          "model_name": "ProgressStyleModel",
          "state": {
            "_view_name": "StyleView",
            "_model_name": "ProgressStyleModel",
            "description_width": "initial",
            "_view_module": "@jupyter-widgets/base",
            "_model_module_version": "1.5.0",
            "_view_count": null,
            "_view_module_version": "1.2.0",
            "bar_color": null,
            "_model_module": "@jupyter-widgets/controls"
          }
        },
        "c1530834a2784978b4a0d2cd11eec7c0": {
          "model_module": "@jupyter-widgets/base",
          "model_name": "LayoutModel",
          "state": {
            "_view_name": "LayoutView",
            "grid_template_rows": null,
            "right": null,
            "justify_content": null,
            "_view_module": "@jupyter-widgets/base",
            "overflow": null,
            "_model_module_version": "1.2.0",
            "_view_count": null,
            "flex_flow": null,
            "width": null,
            "min_width": null,
            "border": null,
            "align_items": null,
            "bottom": null,
            "_model_module": "@jupyter-widgets/base",
            "top": null,
            "grid_column": null,
            "overflow_y": null,
            "overflow_x": null,
            "grid_auto_flow": null,
            "grid_area": null,
            "grid_template_columns": null,
            "flex": null,
            "_model_name": "LayoutModel",
            "justify_items": null,
            "grid_row": null,
            "max_height": null,
            "align_content": null,
            "visibility": null,
            "align_self": null,
            "height": null,
            "min_height": null,
            "padding": null,
            "grid_auto_rows": null,
            "grid_gap": null,
            "max_width": null,
            "order": null,
            "_view_module_version": "1.2.0",
            "grid_template_areas": null,
            "object_position": null,
            "object_fit": null,
            "grid_auto_columns": null,
            "margin": null,
            "display": null,
            "left": null
          }
        },
        "f8a5c1bbe6b04877b4abe571489e1c3c": {
          "model_module": "@jupyter-widgets/controls",
          "model_name": "DescriptionStyleModel",
          "state": {
            "_view_name": "StyleView",
            "_model_name": "DescriptionStyleModel",
            "description_width": "",
            "_view_module": "@jupyter-widgets/base",
            "_model_module_version": "1.5.0",
            "_view_count": null,
            "_view_module_version": "1.2.0",
            "_model_module": "@jupyter-widgets/controls"
          }
        },
        "6576e5760af845f9b49016159395d7ad": {
          "model_module": "@jupyter-widgets/base",
          "model_name": "LayoutModel",
          "state": {
            "_view_name": "LayoutView",
            "grid_template_rows": null,
            "right": null,
            "justify_content": null,
            "_view_module": "@jupyter-widgets/base",
            "overflow": null,
            "_model_module_version": "1.2.0",
            "_view_count": null,
            "flex_flow": null,
            "width": null,
            "min_width": null,
            "border": null,
            "align_items": null,
            "bottom": null,
            "_model_module": "@jupyter-widgets/base",
            "top": null,
            "grid_column": null,
            "overflow_y": null,
            "overflow_x": null,
            "grid_auto_flow": null,
            "grid_area": null,
            "grid_template_columns": null,
            "flex": null,
            "_model_name": "LayoutModel",
            "justify_items": null,
            "grid_row": null,
            "max_height": null,
            "align_content": null,
            "visibility": null,
            "align_self": null,
            "height": null,
            "min_height": null,
            "padding": null,
            "grid_auto_rows": null,
            "grid_gap": null,
            "max_width": null,
            "order": null,
            "_view_module_version": "1.2.0",
            "grid_template_areas": null,
            "object_position": null,
            "object_fit": null,
            "grid_auto_columns": null,
            "margin": null,
            "display": null,
            "left": null
          }
        },
        "bd51fc2eefc14a39862c83713c1648bf": {
          "model_module": "@jupyter-widgets/controls",
          "model_name": "HBoxModel",
          "state": {
            "_view_name": "HBoxView",
            "_dom_classes": [],
            "_model_name": "HBoxModel",
            "_view_module": "@jupyter-widgets/controls",
            "_model_module_version": "1.5.0",
            "_view_count": null,
            "_view_module_version": "1.5.0",
            "box_style": "",
            "layout": "IPY_MODEL_1d55eb9f46f74983917f7f1d38fc027c",
            "_model_module": "@jupyter-widgets/controls",
            "children": [
              "IPY_MODEL_b7daf3c0949c45f59786a74a32a0c74c",
              "IPY_MODEL_0667167f592d4ce29867e472ae8e24a0"
            ]
          }
        },
        "1d55eb9f46f74983917f7f1d38fc027c": {
          "model_module": "@jupyter-widgets/base",
          "model_name": "LayoutModel",
          "state": {
            "_view_name": "LayoutView",
            "grid_template_rows": null,
            "right": null,
            "justify_content": null,
            "_view_module": "@jupyter-widgets/base",
            "overflow": null,
            "_model_module_version": "1.2.0",
            "_view_count": null,
            "flex_flow": null,
            "width": null,
            "min_width": null,
            "border": null,
            "align_items": null,
            "bottom": null,
            "_model_module": "@jupyter-widgets/base",
            "top": null,
            "grid_column": null,
            "overflow_y": null,
            "overflow_x": null,
            "grid_auto_flow": null,
            "grid_area": null,
            "grid_template_columns": null,
            "flex": null,
            "_model_name": "LayoutModel",
            "justify_items": null,
            "grid_row": null,
            "max_height": null,
            "align_content": null,
            "visibility": null,
            "align_self": null,
            "height": null,
            "min_height": null,
            "padding": null,
            "grid_auto_rows": null,
            "grid_gap": null,
            "max_width": null,
            "order": null,
            "_view_module_version": "1.2.0",
            "grid_template_areas": null,
            "object_position": null,
            "object_fit": null,
            "grid_auto_columns": null,
            "margin": null,
            "display": null,
            "left": null
          }
        },
        "b7daf3c0949c45f59786a74a32a0c74c": {
          "model_module": "@jupyter-widgets/controls",
          "model_name": "FloatProgressModel",
          "state": {
            "_view_name": "ProgressView",
            "style": "IPY_MODEL_d10871486e9449a7bfa78ac6c4b97ea5",
            "_dom_classes": [],
            "description": " 61%",
            "_model_name": "FloatProgressModel",
            "bar_style": "danger",
            "max": 25000,
            "_view_module": "@jupyter-widgets/controls",
            "_model_module_version": "1.5.0",
            "value": 15223,
            "_view_count": null,
            "_view_module_version": "1.5.0",
            "orientation": "horizontal",
            "min": 0,
            "description_tooltip": null,
            "_model_module": "@jupyter-widgets/controls",
            "layout": "IPY_MODEL_4f0c8fab6a3545d889dbfbb827b8b975"
          }
        },
        "0667167f592d4ce29867e472ae8e24a0": {
          "model_module": "@jupyter-widgets/controls",
          "model_name": "HTMLModel",
          "state": {
            "_view_name": "HTMLView",
            "style": "IPY_MODEL_097c474212d3483290e03bbc7890239e",
            "_dom_classes": [],
            "description": "",
            "_model_name": "HTMLModel",
            "placeholder": "​",
            "_view_module": "@jupyter-widgets/controls",
            "_model_module_version": "1.5.0",
            "value": " 15223/25000 [00:00&lt;00:00, 152226.15 examples/s]",
            "_view_count": null,
            "_view_module_version": "1.5.0",
            "description_tooltip": null,
            "_model_module": "@jupyter-widgets/controls",
            "layout": "IPY_MODEL_b49e331ade7c4d7f8dfa951d8cbc1210"
          }
        },
        "d10871486e9449a7bfa78ac6c4b97ea5": {
          "model_module": "@jupyter-widgets/controls",
          "model_name": "ProgressStyleModel",
          "state": {
            "_view_name": "StyleView",
            "_model_name": "ProgressStyleModel",
            "description_width": "initial",
            "_view_module": "@jupyter-widgets/base",
            "_model_module_version": "1.5.0",
            "_view_count": null,
            "_view_module_version": "1.2.0",
            "bar_color": null,
            "_model_module": "@jupyter-widgets/controls"
          }
        },
        "4f0c8fab6a3545d889dbfbb827b8b975": {
          "model_module": "@jupyter-widgets/base",
          "model_name": "LayoutModel",
          "state": {
            "_view_name": "LayoutView",
            "grid_template_rows": null,
            "right": null,
            "justify_content": null,
            "_view_module": "@jupyter-widgets/base",
            "overflow": null,
            "_model_module_version": "1.2.0",
            "_view_count": null,
            "flex_flow": null,
            "width": null,
            "min_width": null,
            "border": null,
            "align_items": null,
            "bottom": null,
            "_model_module": "@jupyter-widgets/base",
            "top": null,
            "grid_column": null,
            "overflow_y": null,
            "overflow_x": null,
            "grid_auto_flow": null,
            "grid_area": null,
            "grid_template_columns": null,
            "flex": null,
            "_model_name": "LayoutModel",
            "justify_items": null,
            "grid_row": null,
            "max_height": null,
            "align_content": null,
            "visibility": null,
            "align_self": null,
            "height": null,
            "min_height": null,
            "padding": null,
            "grid_auto_rows": null,
            "grid_gap": null,
            "max_width": null,
            "order": null,
            "_view_module_version": "1.2.0",
            "grid_template_areas": null,
            "object_position": null,
            "object_fit": null,
            "grid_auto_columns": null,
            "margin": null,
            "display": null,
            "left": null
          }
        },
        "097c474212d3483290e03bbc7890239e": {
          "model_module": "@jupyter-widgets/controls",
          "model_name": "DescriptionStyleModel",
          "state": {
            "_view_name": "StyleView",
            "_model_name": "DescriptionStyleModel",
            "description_width": "",
            "_view_module": "@jupyter-widgets/base",
            "_model_module_version": "1.5.0",
            "_view_count": null,
            "_view_module_version": "1.2.0",
            "_model_module": "@jupyter-widgets/controls"
          }
        },
        "b49e331ade7c4d7f8dfa951d8cbc1210": {
          "model_module": "@jupyter-widgets/base",
          "model_name": "LayoutModel",
          "state": {
            "_view_name": "LayoutView",
            "grid_template_rows": null,
            "right": null,
            "justify_content": null,
            "_view_module": "@jupyter-widgets/base",
            "overflow": null,
            "_model_module_version": "1.2.0",
            "_view_count": null,
            "flex_flow": null,
            "width": null,
            "min_width": null,
            "border": null,
            "align_items": null,
            "bottom": null,
            "_model_module": "@jupyter-widgets/base",
            "top": null,
            "grid_column": null,
            "overflow_y": null,
            "overflow_x": null,
            "grid_auto_flow": null,
            "grid_area": null,
            "grid_template_columns": null,
            "flex": null,
            "_model_name": "LayoutModel",
            "justify_items": null,
            "grid_row": null,
            "max_height": null,
            "align_content": null,
            "visibility": null,
            "align_self": null,
            "height": null,
            "min_height": null,
            "padding": null,
            "grid_auto_rows": null,
            "grid_gap": null,
            "max_width": null,
            "order": null,
            "_view_module_version": "1.2.0",
            "grid_template_areas": null,
            "object_position": null,
            "object_fit": null,
            "grid_auto_columns": null,
            "margin": null,
            "display": null,
            "left": null
          }
        },
        "f0a15a7b804740059924ae0194d88528": {
          "model_module": "@jupyter-widgets/controls",
          "model_name": "HBoxModel",
          "state": {
            "_view_name": "HBoxView",
            "_dom_classes": [],
            "_model_name": "HBoxModel",
            "_view_module": "@jupyter-widgets/controls",
            "_model_module_version": "1.5.0",
            "_view_count": null,
            "_view_module_version": "1.5.0",
            "box_style": "",
            "layout": "IPY_MODEL_38ee4ae6fce740829ee5630a526fe7e9",
            "_model_module": "@jupyter-widgets/controls",
            "children": [
              "IPY_MODEL_85027eef8d9e40418a757a05e90bd675",
              "IPY_MODEL_9ec35e8039d346bd8c984cf6fca15437"
            ]
          }
        },
        "38ee4ae6fce740829ee5630a526fe7e9": {
          "model_module": "@jupyter-widgets/base",
          "model_name": "LayoutModel",
          "state": {
            "_view_name": "LayoutView",
            "grid_template_rows": null,
            "right": null,
            "justify_content": null,
            "_view_module": "@jupyter-widgets/base",
            "overflow": null,
            "_model_module_version": "1.2.0",
            "_view_count": null,
            "flex_flow": null,
            "width": null,
            "min_width": null,
            "border": null,
            "align_items": null,
            "bottom": null,
            "_model_module": "@jupyter-widgets/base",
            "top": null,
            "grid_column": null,
            "overflow_y": null,
            "overflow_x": null,
            "grid_auto_flow": null,
            "grid_area": null,
            "grid_template_columns": null,
            "flex": null,
            "_model_name": "LayoutModel",
            "justify_items": null,
            "grid_row": null,
            "max_height": null,
            "align_content": null,
            "visibility": null,
            "align_self": null,
            "height": null,
            "min_height": null,
            "padding": null,
            "grid_auto_rows": null,
            "grid_gap": null,
            "max_width": null,
            "order": null,
            "_view_module_version": "1.2.0",
            "grid_template_areas": null,
            "object_position": null,
            "object_fit": null,
            "grid_auto_columns": null,
            "margin": null,
            "display": null,
            "left": null
          }
        },
        "85027eef8d9e40418a757a05e90bd675": {
          "model_module": "@jupyter-widgets/controls",
          "model_name": "FloatProgressModel",
          "state": {
            "_view_name": "ProgressView",
            "style": "IPY_MODEL_a516da51f2cc4599a4df039e4988388f",
            "_dom_classes": [],
            "description": "",
            "_model_name": "FloatProgressModel",
            "bar_style": "info",
            "max": 1,
            "_view_module": "@jupyter-widgets/controls",
            "_model_module_version": "1.5.0",
            "value": 1,
            "_view_count": null,
            "_view_module_version": "1.5.0",
            "orientation": "horizontal",
            "min": 0,
            "description_tooltip": null,
            "_model_module": "@jupyter-widgets/controls",
            "layout": "IPY_MODEL_4292f7e589114134b8161f13cd04ede8"
          }
        },
        "9ec35e8039d346bd8c984cf6fca15437": {
          "model_module": "@jupyter-widgets/controls",
          "model_name": "HTMLModel",
          "state": {
            "_view_name": "HTMLView",
            "style": "IPY_MODEL_5444b23241bc489197a4a9a364a8b365",
            "_dom_classes": [],
            "description": "",
            "_model_name": "HTMLModel",
            "placeholder": "​",
            "_view_module": "@jupyter-widgets/controls",
            "_model_module_version": "1.5.0",
            "value": " 50000/0 [00:17&lt;00:00, 3249.48 examples/s]",
            "_view_count": null,
            "_view_module_version": "1.5.0",
            "description_tooltip": null,
            "_model_module": "@jupyter-widgets/controls",
            "layout": "IPY_MODEL_70cf9514f99c4398b99d41db24058d0f"
          }
        },
        "a516da51f2cc4599a4df039e4988388f": {
          "model_module": "@jupyter-widgets/controls",
          "model_name": "ProgressStyleModel",
          "state": {
            "_view_name": "StyleView",
            "_model_name": "ProgressStyleModel",
            "description_width": "initial",
            "_view_module": "@jupyter-widgets/base",
            "_model_module_version": "1.5.0",
            "_view_count": null,
            "_view_module_version": "1.2.0",
            "bar_color": null,
            "_model_module": "@jupyter-widgets/controls"
          }
        },
        "4292f7e589114134b8161f13cd04ede8": {
          "model_module": "@jupyter-widgets/base",
          "model_name": "LayoutModel",
          "state": {
            "_view_name": "LayoutView",
            "grid_template_rows": null,
            "right": null,
            "justify_content": null,
            "_view_module": "@jupyter-widgets/base",
            "overflow": null,
            "_model_module_version": "1.2.0",
            "_view_count": null,
            "flex_flow": null,
            "width": null,
            "min_width": null,
            "border": null,
            "align_items": null,
            "bottom": null,
            "_model_module": "@jupyter-widgets/base",
            "top": null,
            "grid_column": null,
            "overflow_y": null,
            "overflow_x": null,
            "grid_auto_flow": null,
            "grid_area": null,
            "grid_template_columns": null,
            "flex": null,
            "_model_name": "LayoutModel",
            "justify_items": null,
            "grid_row": null,
            "max_height": null,
            "align_content": null,
            "visibility": null,
            "align_self": null,
            "height": null,
            "min_height": null,
            "padding": null,
            "grid_auto_rows": null,
            "grid_gap": null,
            "max_width": null,
            "order": null,
            "_view_module_version": "1.2.0",
            "grid_template_areas": null,
            "object_position": null,
            "object_fit": null,
            "grid_auto_columns": null,
            "margin": null,
            "display": null,
            "left": null
          }
        },
        "5444b23241bc489197a4a9a364a8b365": {
          "model_module": "@jupyter-widgets/controls",
          "model_name": "DescriptionStyleModel",
          "state": {
            "_view_name": "StyleView",
            "_model_name": "DescriptionStyleModel",
            "description_width": "",
            "_view_module": "@jupyter-widgets/base",
            "_model_module_version": "1.5.0",
            "_view_count": null,
            "_view_module_version": "1.2.0",
            "_model_module": "@jupyter-widgets/controls"
          }
        },
        "70cf9514f99c4398b99d41db24058d0f": {
          "model_module": "@jupyter-widgets/base",
          "model_name": "LayoutModel",
          "state": {
            "_view_name": "LayoutView",
            "grid_template_rows": null,
            "right": null,
            "justify_content": null,
            "_view_module": "@jupyter-widgets/base",
            "overflow": null,
            "_model_module_version": "1.2.0",
            "_view_count": null,
            "flex_flow": null,
            "width": null,
            "min_width": null,
            "border": null,
            "align_items": null,
            "bottom": null,
            "_model_module": "@jupyter-widgets/base",
            "top": null,
            "grid_column": null,
            "overflow_y": null,
            "overflow_x": null,
            "grid_auto_flow": null,
            "grid_area": null,
            "grid_template_columns": null,
            "flex": null,
            "_model_name": "LayoutModel",
            "justify_items": null,
            "grid_row": null,
            "max_height": null,
            "align_content": null,
            "visibility": null,
            "align_self": null,
            "height": null,
            "min_height": null,
            "padding": null,
            "grid_auto_rows": null,
            "grid_gap": null,
            "max_width": null,
            "order": null,
            "_view_module_version": "1.2.0",
            "grid_template_areas": null,
            "object_position": null,
            "object_fit": null,
            "grid_auto_columns": null,
            "margin": null,
            "display": null,
            "left": null
          }
        },
        "d2b9c0c5edf04965bd0fae5eadba64b0": {
          "model_module": "@jupyter-widgets/controls",
          "model_name": "HBoxModel",
          "state": {
            "_view_name": "HBoxView",
            "_dom_classes": [],
            "_model_name": "HBoxModel",
            "_view_module": "@jupyter-widgets/controls",
            "_model_module_version": "1.5.0",
            "_view_count": null,
            "_view_module_version": "1.5.0",
            "box_style": "",
            "layout": "IPY_MODEL_1c75fcf574af4fc89b66b0af88179574",
            "_model_module": "@jupyter-widgets/controls",
            "children": [
              "IPY_MODEL_7ffde1ab1d9844aa864b821c6052a4c7",
              "IPY_MODEL_a917155ea5c7462485e2d46faa045049"
            ]
          }
        },
        "1c75fcf574af4fc89b66b0af88179574": {
          "model_module": "@jupyter-widgets/base",
          "model_name": "LayoutModel",
          "state": {
            "_view_name": "LayoutView",
            "grid_template_rows": null,
            "right": null,
            "justify_content": null,
            "_view_module": "@jupyter-widgets/base",
            "overflow": null,
            "_model_module_version": "1.2.0",
            "_view_count": null,
            "flex_flow": null,
            "width": null,
            "min_width": null,
            "border": null,
            "align_items": null,
            "bottom": null,
            "_model_module": "@jupyter-widgets/base",
            "top": null,
            "grid_column": null,
            "overflow_y": null,
            "overflow_x": null,
            "grid_auto_flow": null,
            "grid_area": null,
            "grid_template_columns": null,
            "flex": null,
            "_model_name": "LayoutModel",
            "justify_items": null,
            "grid_row": null,
            "max_height": null,
            "align_content": null,
            "visibility": null,
            "align_self": null,
            "height": null,
            "min_height": null,
            "padding": null,
            "grid_auto_rows": null,
            "grid_gap": null,
            "max_width": null,
            "order": null,
            "_view_module_version": "1.2.0",
            "grid_template_areas": null,
            "object_position": null,
            "object_fit": null,
            "grid_auto_columns": null,
            "margin": null,
            "display": null,
            "left": null
          }
        },
        "7ffde1ab1d9844aa864b821c6052a4c7": {
          "model_module": "@jupyter-widgets/controls",
          "model_name": "FloatProgressModel",
          "state": {
            "_view_name": "ProgressView",
            "style": "IPY_MODEL_38ea041385284a3fbe2f2b05051fb3e5",
            "_dom_classes": [],
            "description": " 76%",
            "_model_name": "FloatProgressModel",
            "bar_style": "danger",
            "max": 50000,
            "_view_module": "@jupyter-widgets/controls",
            "_model_module_version": "1.5.0",
            "value": 37881,
            "_view_count": null,
            "_view_module_version": "1.5.0",
            "orientation": "horizontal",
            "min": 0,
            "description_tooltip": null,
            "_model_module": "@jupyter-widgets/controls",
            "layout": "IPY_MODEL_2362f08db35a4cc99b0e6b341b6466e6"
          }
        },
        "a917155ea5c7462485e2d46faa045049": {
          "model_module": "@jupyter-widgets/controls",
          "model_name": "HTMLModel",
          "state": {
            "_view_name": "HTMLView",
            "style": "IPY_MODEL_a27585da31b642dfb7d49436d1fb36d7",
            "_dom_classes": [],
            "description": "",
            "_model_name": "HTMLModel",
            "placeholder": "​",
            "_view_module": "@jupyter-widgets/controls",
            "_model_module_version": "1.5.0",
            "value": " 37881/50000 [00:08&lt;00:00, 113476.31 examples/s]",
            "_view_count": null,
            "_view_module_version": "1.5.0",
            "description_tooltip": null,
            "_model_module": "@jupyter-widgets/controls",
            "layout": "IPY_MODEL_08affffff13c40719fd320e55246accc"
          }
        },
        "38ea041385284a3fbe2f2b05051fb3e5": {
          "model_module": "@jupyter-widgets/controls",
          "model_name": "ProgressStyleModel",
          "state": {
            "_view_name": "StyleView",
            "_model_name": "ProgressStyleModel",
            "description_width": "initial",
            "_view_module": "@jupyter-widgets/base",
            "_model_module_version": "1.5.0",
            "_view_count": null,
            "_view_module_version": "1.2.0",
            "bar_color": null,
            "_model_module": "@jupyter-widgets/controls"
          }
        },
        "2362f08db35a4cc99b0e6b341b6466e6": {
          "model_module": "@jupyter-widgets/base",
          "model_name": "LayoutModel",
          "state": {
            "_view_name": "LayoutView",
            "grid_template_rows": null,
            "right": null,
            "justify_content": null,
            "_view_module": "@jupyter-widgets/base",
            "overflow": null,
            "_model_module_version": "1.2.0",
            "_view_count": null,
            "flex_flow": null,
            "width": null,
            "min_width": null,
            "border": null,
            "align_items": null,
            "bottom": null,
            "_model_module": "@jupyter-widgets/base",
            "top": null,
            "grid_column": null,
            "overflow_y": null,
            "overflow_x": null,
            "grid_auto_flow": null,
            "grid_area": null,
            "grid_template_columns": null,
            "flex": null,
            "_model_name": "LayoutModel",
            "justify_items": null,
            "grid_row": null,
            "max_height": null,
            "align_content": null,
            "visibility": null,
            "align_self": null,
            "height": null,
            "min_height": null,
            "padding": null,
            "grid_auto_rows": null,
            "grid_gap": null,
            "max_width": null,
            "order": null,
            "_view_module_version": "1.2.0",
            "grid_template_areas": null,
            "object_position": null,
            "object_fit": null,
            "grid_auto_columns": null,
            "margin": null,
            "display": null,
            "left": null
          }
        },
        "a27585da31b642dfb7d49436d1fb36d7": {
          "model_module": "@jupyter-widgets/controls",
          "model_name": "DescriptionStyleModel",
          "state": {
            "_view_name": "StyleView",
            "_model_name": "DescriptionStyleModel",
            "description_width": "",
            "_view_module": "@jupyter-widgets/base",
            "_model_module_version": "1.5.0",
            "_view_count": null,
            "_view_module_version": "1.2.0",
            "_model_module": "@jupyter-widgets/controls"
          }
        },
        "08affffff13c40719fd320e55246accc": {
          "model_module": "@jupyter-widgets/base",
          "model_name": "LayoutModel",
          "state": {
            "_view_name": "LayoutView",
            "grid_template_rows": null,
            "right": null,
            "justify_content": null,
            "_view_module": "@jupyter-widgets/base",
            "overflow": null,
            "_model_module_version": "1.2.0",
            "_view_count": null,
            "flex_flow": null,
            "width": null,
            "min_width": null,
            "border": null,
            "align_items": null,
            "bottom": null,
            "_model_module": "@jupyter-widgets/base",
            "top": null,
            "grid_column": null,
            "overflow_y": null,
            "overflow_x": null,
            "grid_auto_flow": null,
            "grid_area": null,
            "grid_template_columns": null,
            "flex": null,
            "_model_name": "LayoutModel",
            "justify_items": null,
            "grid_row": null,
            "max_height": null,
            "align_content": null,
            "visibility": null,
            "align_self": null,
            "height": null,
            "min_height": null,
            "padding": null,
            "grid_auto_rows": null,
            "grid_gap": null,
            "max_width": null,
            "order": null,
            "_view_module_version": "1.2.0",
            "grid_template_areas": null,
            "object_position": null,
            "object_fit": null,
            "grid_auto_columns": null,
            "margin": null,
            "display": null,
            "left": null
          }
        }
      }
    }
  },
  "cells": [
    {
      "cell_type": "code",
      "metadata": {
        "id": "zUCvGDtZYZpR",
        "colab_type": "code",
        "outputId": "b106fc61-8a1b-4e21-a669-6e491d91681b",
        "colab": {
          "base_uri": "https://localhost:8080/",
          "height": 34
        }
      },
      "source": [
        "import tensorflow as tf\n",
        "from tensorflow.keras import regularizers\n",
        "print(tf.__version__)"
      ],
      "execution_count": 1,
      "outputs": [
        {
          "output_type": "stream",
          "text": [
            "2.2.0\n"
          ],
          "name": "stdout"
        }
      ]
    },
    {
      "cell_type": "code",
      "metadata": {
        "id": "m7Pa52esZyIR",
        "colab_type": "code",
        "outputId": "a68ddbc2-ed78-4ab4-be3d-541f46dccff3",
        "colab": {
          "base_uri": "https://localhost:8080/",
          "height": 350,
          "referenced_widgets": [
            "022903bf761c4d21baa71c073344e148",
            "594893c1432d49a4bddd45c2a43dcb53",
            "5a301240207c4da9bb09af0528b4f3ed",
            "086e11b811aa4daab18b53ac620fa384",
            "4ca87c46e8ea48eca20c54462f1d6f33",
            "b281a375353e48fb9af4236d54e3d64f",
            "1675170ef0b5428eb2ac7e8a2d7ed370",
            "cc7712ea22ec42ea8ad98c74fc2e1f67",
            "7ad32a823c7447429b5abde8cc1dd9ea",
            "f53d737f51d94c76bf5397c1c0bb6066",
            "70a411e626d04526809f1fdab1fe7d15",
            "5f62d0dec4fe4998bdb2f5f64a0a37c6",
            "4e0b117bbca1491c8868342e18c4818e",
            "e133479e674644c58c40f093febfcc05",
            "8477abb1e7fc47898f1b9fd1b109f19a",
            "15e7f1c8bf4c45bf80b8e9961d89a923",
            "36af846c39bc4b27afb81a7662e2413c",
            "6e7c2010448c463d9b547d9368684dbd",
            "74dc4ca3860644cf87df95c310c725e0",
            "fca090dbcfa444e4be96c2e8194e5124",
            "dc3548f7864d4d48bae329deb7cb8a71",
            "65eaa5fb754744e290c345eb569152d4",
            "dbb58d55c07c463e8841511ea152e54e",
            "656c6fd8512d4c4aa2d9960533e34d90",
            "88bbd0e395ef4d7aa80a98e3883a527b",
            "69cca19b19a145debd60e7d6da9220a7",
            "c4ec744cc38144cda9dea9f3e30db6c0",
            "a6bb623d33c24844b6b0f2a684a1464a",
            "dcb55d555b8340b38774b5839b36dab9",
            "9caeedd03b384c4c90f736efc1e0a4ff",
            "749f15569d9d4da0b05f202a1156a54f",
            "6677057afd544ca38cda38e8f2c9a47f",
            "94db5004e30542768fedd7ced403f883",
            "6ed488abc92c4de989d377b3ecf3ea78",
            "35cc0ee4b4024cb5880da78ed8a94a7f",
            "aa4fe5ba4c514cceaeaeafa0a0db1357",
            "25c5f3bd157a464286c5eff11126bca1",
            "c1530834a2784978b4a0d2cd11eec7c0",
            "f8a5c1bbe6b04877b4abe571489e1c3c",
            "6576e5760af845f9b49016159395d7ad",
            "bd51fc2eefc14a39862c83713c1648bf",
            "1d55eb9f46f74983917f7f1d38fc027c",
            "b7daf3c0949c45f59786a74a32a0c74c",
            "0667167f592d4ce29867e472ae8e24a0",
            "d10871486e9449a7bfa78ac6c4b97ea5",
            "4f0c8fab6a3545d889dbfbb827b8b975",
            "097c474212d3483290e03bbc7890239e",
            "b49e331ade7c4d7f8dfa951d8cbc1210",
            "f0a15a7b804740059924ae0194d88528",
            "38ee4ae6fce740829ee5630a526fe7e9",
            "85027eef8d9e40418a757a05e90bd675",
            "9ec35e8039d346bd8c984cf6fca15437",
            "a516da51f2cc4599a4df039e4988388f",
            "4292f7e589114134b8161f13cd04ede8",
            "5444b23241bc489197a4a9a364a8b365",
            "70cf9514f99c4398b99d41db24058d0f",
            "d2b9c0c5edf04965bd0fae5eadba64b0",
            "1c75fcf574af4fc89b66b0af88179574",
            "7ffde1ab1d9844aa864b821c6052a4c7",
            "a917155ea5c7462485e2d46faa045049",
            "38ea041385284a3fbe2f2b05051fb3e5",
            "2362f08db35a4cc99b0e6b341b6466e6",
            "a27585da31b642dfb7d49436d1fb36d7",
            "08affffff13c40719fd320e55246accc"
          ]
        }
      },
      "source": [
        "import tensorflow_datasets as tfds\n",
        "imdb,info=tfds.load(\"imdb_reviews\",with_info=True,as_supervised=True)"
      ],
      "execution_count": 2,
      "outputs": [
        {
          "output_type": "stream",
          "text": [
            "\u001b[1mDownloading and preparing dataset imdb_reviews/plain_text/1.0.0 (download: 80.23 MiB, generated: Unknown size, total: 80.23 MiB) to /root/tensorflow_datasets/imdb_reviews/plain_text/1.0.0...\u001b[0m\n"
          ],
          "name": "stdout"
        },
        {
          "output_type": "display_data",
          "data": {
            "application/vnd.jupyter.widget-view+json": {
              "model_id": "022903bf761c4d21baa71c073344e148",
              "version_minor": 0,
              "version_major": 2
            },
            "text/plain": [
              "HBox(children=(FloatProgress(value=1.0, bar_style='info', description='Dl Completed...', max=1.0, style=Progre…"
            ]
          },
          "metadata": {
            "tags": []
          }
        },
        {
          "output_type": "display_data",
          "data": {
            "application/vnd.jupyter.widget-view+json": {
              "model_id": "7ad32a823c7447429b5abde8cc1dd9ea",
              "version_minor": 0,
              "version_major": 2
            },
            "text/plain": [
              "HBox(children=(FloatProgress(value=1.0, bar_style='info', description='Dl Size...', max=1.0, style=ProgressSty…"
            ]
          },
          "metadata": {
            "tags": []
          }
        },
        {
          "output_type": "stream",
          "text": [
            "\n",
            "\n",
            "\n",
            "\n"
          ],
          "name": "stdout"
        },
        {
          "output_type": "display_data",
          "data": {
            "application/vnd.jupyter.widget-view+json": {
              "model_id": "36af846c39bc4b27afb81a7662e2413c",
              "version_minor": 0,
              "version_major": 2
            },
            "text/plain": [
              "HBox(children=(FloatProgress(value=1.0, bar_style='info', max=1.0), HTML(value='')))"
            ]
          },
          "metadata": {
            "tags": []
          }
        },
        {
          "output_type": "stream",
          "text": [
            "\rShuffling and writing examples to /root/tensorflow_datasets/imdb_reviews/plain_text/1.0.0.incompleteHESN6L/imdb_reviews-train.tfrecord\n"
          ],
          "name": "stdout"
        },
        {
          "output_type": "display_data",
          "data": {
            "application/vnd.jupyter.widget-view+json": {
              "model_id": "88bbd0e395ef4d7aa80a98e3883a527b",
              "version_minor": 0,
              "version_major": 2
            },
            "text/plain": [
              "HBox(children=(FloatProgress(value=0.0, max=25000.0), HTML(value='')))"
            ]
          },
          "metadata": {
            "tags": []
          }
        },
        {
          "output_type": "stream",
          "text": [
            "\r"
          ],
          "name": "stdout"
        },
        {
          "output_type": "display_data",
          "data": {
            "application/vnd.jupyter.widget-view+json": {
              "model_id": "94db5004e30542768fedd7ced403f883",
              "version_minor": 0,
              "version_major": 2
            },
            "text/plain": [
              "HBox(children=(FloatProgress(value=1.0, bar_style='info', max=1.0), HTML(value='')))"
            ]
          },
          "metadata": {
            "tags": []
          }
        },
        {
          "output_type": "stream",
          "text": [
            "\rShuffling and writing examples to /root/tensorflow_datasets/imdb_reviews/plain_text/1.0.0.incompleteHESN6L/imdb_reviews-test.tfrecord\n"
          ],
          "name": "stdout"
        },
        {
          "output_type": "display_data",
          "data": {
            "application/vnd.jupyter.widget-view+json": {
              "model_id": "bd51fc2eefc14a39862c83713c1648bf",
              "version_minor": 0,
              "version_major": 2
            },
            "text/plain": [
              "HBox(children=(FloatProgress(value=0.0, max=25000.0), HTML(value='')))"
            ]
          },
          "metadata": {
            "tags": []
          }
        },
        {
          "output_type": "stream",
          "text": [
            "\r"
          ],
          "name": "stdout"
        },
        {
          "output_type": "display_data",
          "data": {
            "application/vnd.jupyter.widget-view+json": {
              "model_id": "f0a15a7b804740059924ae0194d88528",
              "version_minor": 0,
              "version_major": 2
            },
            "text/plain": [
              "HBox(children=(FloatProgress(value=1.0, bar_style='info', max=1.0), HTML(value='')))"
            ]
          },
          "metadata": {
            "tags": []
          }
        },
        {
          "output_type": "stream",
          "text": [
            "\rShuffling and writing examples to /root/tensorflow_datasets/imdb_reviews/plain_text/1.0.0.incompleteHESN6L/imdb_reviews-unsupervised.tfrecord\n"
          ],
          "name": "stdout"
        },
        {
          "output_type": "display_data",
          "data": {
            "application/vnd.jupyter.widget-view+json": {
              "model_id": "d2b9c0c5edf04965bd0fae5eadba64b0",
              "version_minor": 0,
              "version_major": 2
            },
            "text/plain": [
              "HBox(children=(FloatProgress(value=0.0, max=50000.0), HTML(value='')))"
            ]
          },
          "metadata": {
            "tags": []
          }
        },
        {
          "output_type": "stream",
          "text": [
            "\u001b[1mDataset imdb_reviews downloaded and prepared to /root/tensorflow_datasets/imdb_reviews/plain_text/1.0.0. Subsequent calls will reuse this data.\u001b[0m\n"
          ],
          "name": "stdout"
        }
      ]
    },
    {
      "cell_type": "code",
      "metadata": {
        "id": "UgpCFZv6a-St",
        "colab_type": "code",
        "colab": {}
      },
      "source": [
        "import numpy as np\n",
        "train_data,test_data=imdb['train'],imdb['test']\n",
        "\n",
        "training_sentences=[]\n",
        "training_label=[]\n",
        "\n",
        "testing_sentences=[]\n",
        "testing_label=[]\n",
        "\n",
        "for s,l in train_data:\n",
        "  training_sentences.append(str(s.numpy()))\n",
        "  training_label.append(l.numpy()) \n",
        "\n",
        "for s,l in test_data:\n",
        "  testing_sentences.append(str(s.numpy()))\n",
        "  testing_label.append(l.numpy())\n",
        "\n",
        "training_lables_final=np.array(training_label)\n",
        "testing_labels_final=np.array(testing_label)\n"
      ],
      "execution_count": 0,
      "outputs": []
    },
    {
      "cell_type": "code",
      "metadata": {
        "id": "VE-9at8ocsBN",
        "colab_type": "code",
        "outputId": "d2ceea34-deca-4941-e417-f05149cb3235",
        "colab": {
          "base_uri": "https://localhost:8080/",
          "height": 51
        }
      },
      "source": [
        "vocab_size=12000\n",
        "embedding_dim=16\n",
        "max_length=120\n",
        "trunc_type='post'\n",
        "oov_tok=\"<oov>\"\n",
        "\n",
        "from tensorflow.keras.preprocessing.text import Tokenizer\n",
        "from tensorflow.keras.preprocessing.sequence import pad_sequences\n",
        "\n",
        "tokenizer=Tokenizer(num_words=vocab_size,oov_token=oov_tok)\n",
        "tokenizer.fit_on_texts(training_sentences)\n",
        "word_index=tokenizer.word_index\n",
        "sequences=tokenizer.texts_to_sequences(training_sentences)\n",
        "padded=pad_sequences(sequences=sequences,maxlen=max_length,truncating=trunc_type)\n",
        "testing_sequences=tokenizer.texts_to_sequences(testing_sentences)\n",
        "testing_padded=pad_sequences(sequences=testing_sequences,maxlen=max_length,truncating=trunc_type)\n",
        "print(len(sequences))\n",
        "print(len(testing_sequences))"
      ],
      "execution_count": 31,
      "outputs": [
        {
          "output_type": "stream",
          "text": [
            "25000\n",
            "25000\n"
          ],
          "name": "stdout"
        }
      ]
    },
    {
      "cell_type": "code",
      "metadata": {
        "id": "dWm17k9R_fqH",
        "colab_type": "code",
        "colab": {}
      },
      "source": [
        "training_target=[]\n",
        "training_context=[]\n",
        "for i in range(len(sequences)):\n",
        "  for j in range(len(sequences[i])):\n",
        "    training_target.append(sequences[i][j])\n",
        "    if(j==0):\n",
        "      training_context.append([sequences[i][j+1], sequences[i][j+2], sequences[i][j+3]])\n",
        "    elif(j==len(sequences[i])-1):\n",
        "      training_context.append([sequences[i][j-3], sequences[i][j-2], sequences[i][j-1]])\n",
        "    elif(j==len(sequences[i])-2):\n",
        "      training_context.append([sequences[i][j-2], sequences[i][j-1], sequences[i][j+1]])\n",
        "    else:\n",
        "      training_context.append([sequences[i][j-1], sequences[i][j+1], sequences[i][j+2]])\n"
      ],
      "execution_count": 0,
      "outputs": []
    },
    {
      "cell_type": "code",
      "metadata": {
        "id": "dDpzT34PExwS",
        "colab_type": "code",
        "colab": {}
      },
      "source": [
        "testing_target=[]\n",
        "testing_context=[]\n",
        "for i in range(len(testing_sequences)):\n",
        "  for j in range(len(testing_sequences[i])):\n",
        "    testing_target.append(testing_sequences[i][j])\n",
        "    if(j==0):\n",
        "      testing_context.append([testing_sequences[i][j+1], testing_sequences[i][j+2], testing_sequences[i][j+3]])\n",
        "    elif(j==len(testing_sequences[i])-1):\n",
        "      testing_context.append([testing_sequences[i][j-3], testing_sequences[i][j-2], testing_sequences[i][j-1]])\n",
        "    elif(j==len(testing_sequences[i])-2):\n",
        "      testing_context.append([testing_sequences[i][j-2], testing_sequences[i][j-1], testing_sequences[i][j+1]])\n",
        "    else:\n",
        "      testing_context.append([testing_sequences[i][j-1], testing_sequences[i][j+1], testing_sequences[i][j+2]])\n",
        "training_target_final=np.array(training_target)\n",
        "training_context_final=np.array(training_context)\n",
        "testing_target_final=np.array(testing_target)\n",
        "testing_context_final=np.array(testing_context)"
      ],
      "execution_count": 0,
      "outputs": []
    },
    {
      "cell_type": "code",
      "metadata": {
        "id": "O4fArNg7iWgM",
        "colab_type": "code",
        "outputId": "561429ed-24ca-4b49-971f-26778bc4f054",
        "colab": {
          "base_uri": "https://localhost:8080/",
          "height": 105
        }
      },
      "source": [
        "reverse_word_index=dict([(value,key) for (key,value) in word_index.items()])\n",
        "def decode_review(text):\n",
        "  return ' '.join([reverse_word_index.get(i,'?') for i in text])\n",
        "print(decode_review(training_sentences[3]))\n",
        "print(training_sentences[3])\n",
        "print(len(word_index))\n",
        "print(word_index[\"large\"])"
      ],
      "execution_count": 34,
      "outputs": [
        {
          "output_type": "stream",
          "text": [
            "? ? ? ? ? ? ? ? ? ? ? ? ? ? ? ? ? ? ? ? ? ? ? ? ? ? ? ? ? ? ? ? ? ? ? ? ? ? ? ? ? ? ? ? ? ? ? ? ? ? ? ? ? ? ? ? ? ? ? ? ? ? ? ? ? ? ? ? ? ? ? ? ? ? ? ? ? ? ? ? ? ? ? ? ? ? ? ? ? ? ? ? ? ? ? ? ? ? ? ? ? ? ? ? ? ? ? ? ? ? ? ? ? ? ? ? ? ? ? ? ? ? ? ? ? ? ? ? ? ? ? ? ? ? ? ? ? ? ? ? ? ? ? ? ? ? ? ? ? ? ? ? ? ? ? ? ? ? ? ? ? ? ? ? ? ? ? ? ? ? ? ? ? ? ? ? ? ? ? ? ? ? ? ? ? ? ? ? ? ? ? ? ? ? ? ? ? ? ? ? ? ? ? ? ? ? ? ? ? ? ? ? ? ? ? ? ? ? ? ? ? ? ? ? ? ? ? ? ? ? ? ? ? ? ? ? ? ? ? ? ? ? ? ? ? ? ? ? ? ? ? ? ? ? ? ? ? ? ? ? ? ? ? ? ? ? ? ? ? ? ? ? ? ? ? ? ? ? ? ? ? ? ? ? ? ? ? ? ? ? ? ? ? ? ? ? ? ? ? ? ? ? ? ? ? ? ? ? ? ? ? ? ? ? ? ? ? ? ? ? ? ? ? ? ? ? ? ? ? ? ? ? ? ? ? ? ? ? ? ? ? ? ? ? ? ? ? ? ? ? ? ? ? ? ? ? ? ? ? ? ? ? ? ? ? ? ? ? ? ? ? ? ? ? ? ? ? ? ? ? ? ? ? ? ? ? ? ? ? ? ? ? ? ? ? ? ? ? ? ? ? ? ? ? ? ? ? ? ? ? ? ? ? ? ? ? ? ? ? ? ? ? ? ? ? ? ? ? ? ? ? ? ? ? ? ? ? ? ? ? ? ? ? ? ? ? ? ? ? ? ? ? ? ? ? ? ? ? ? ? ? ? ? ? ? ? ?\n",
            "b'This is the kind of film for a snowy Sunday afternoon when the rest of the world can go ahead with its own business as you descend into a big arm-chair and mellow for a couple of hours. Wonderful performances from Cher and Nicolas Cage (as always) gently row the plot along. There are no rapids to cross, no dangerous waters, just a warm and witty paddle through New York life at its best. A family film in every sense and one that deserves the praise it received.'\n",
            "86539\n",
            "1074\n"
          ],
          "name": "stdout"
        }
      ]
    },
    {
      "cell_type": "code",
      "metadata": {
        "id": "Bz-jauNmld-0",
        "colab_type": "code",
        "outputId": "69e93570-241b-4538-99df-c3ba28326f1d",
        "colab": {
          "base_uri": "https://localhost:8080/",
          "height": 306
        }
      },
      "source": [
        "\n",
        "from tensorflow.keras.layers import Dense,Flatten,Dropout\n",
        "from tensorflow.keras.layers import Embedding,Bidirectional\n",
        "from tensorflow.keras.models import Sequential\n",
        "from tensorflow.keras.regularizers import l2\n",
        "\n",
        "embedding_dim=16\n",
        "model = Sequential()\n",
        "model.add(Embedding(vocab_size,embedding_dim,input_length=3))\n",
        "model.add(Flatten())\n",
        "model.add(Dense(6,activation='relu'))\n",
        "model.add(Dense(vocab_size,activation='softmax'))\n",
        "model.compile(optimizer='adam',loss='sparse_categorical_crossentropy',metrics=['accuracy'])\n",
        "# view model summary\n",
        "print(model.summary())"
      ],
      "execution_count": 35,
      "outputs": [
        {
          "output_type": "stream",
          "text": [
            "Model: \"sequential_8\"\n",
            "_________________________________________________________________\n",
            "Layer (type)                 Output Shape              Param #   \n",
            "=================================================================\n",
            "embedding_7 (Embedding)      (None, 3, 16)             192000    \n",
            "_________________________________________________________________\n",
            "flatten_1 (Flatten)          (None, 48)                0         \n",
            "_________________________________________________________________\n",
            "dense_5 (Dense)              (None, 6)                 294       \n",
            "_________________________________________________________________\n",
            "dense_6 (Dense)              (None, 12000)             84000     \n",
            "=================================================================\n",
            "Total params: 276,294\n",
            "Trainable params: 276,294\n",
            "Non-trainable params: 0\n",
            "_________________________________________________________________\n",
            "None\n"
          ],
          "name": "stdout"
        }
      ]
    },
    {
      "cell_type": "code",
      "metadata": {
        "id": "G1l6qKM6n_Em",
        "colab_type": "code",
        "outputId": "00aaa1d8-2d23-40f8-d6e9-00b1f93c3b75",
        "colab": {
          "base_uri": "https://localhost:8080/",
          "height": 527
        }
      },
      "source": [
        "num_epochs=15\n",
        "history=model.fit(training_context_final,training_target_final,batch_size=25000,epochs=num_epochs,validation_data=(testing_context_final,testing_target_final))"
      ],
      "execution_count": 36,
      "outputs": [
        {
          "output_type": "stream",
          "text": [
            "Epoch 1/15\n",
            "242/242 [==============================] - 64s 264ms/step - loss: 7.7735 - accuracy: 0.0342 - val_loss: 6.4680 - val_accuracy: 0.0558\n",
            "Epoch 2/15\n",
            "242/242 [==============================] - 64s 265ms/step - loss: 6.4797 - accuracy: 0.0554 - val_loss: 6.4068 - val_accuracy: 0.0558\n",
            "Epoch 3/15\n",
            "242/242 [==============================] - 65s 267ms/step - loss: 6.4258 - accuracy: 0.0555 - val_loss: 6.3563 - val_accuracy: 0.0572\n",
            "Epoch 4/15\n",
            "242/242 [==============================] - 65s 267ms/step - loss: 6.3525 - accuracy: 0.0679 - val_loss: 6.2384 - val_accuracy: 0.0852\n",
            "Epoch 5/15\n",
            "242/242 [==============================] - 65s 267ms/step - loss: 6.1617 - accuracy: 0.0940 - val_loss: 5.9927 - val_accuracy: 0.1102\n",
            "Epoch 6/15\n",
            "242/242 [==============================] - 65s 268ms/step - loss: 5.9135 - accuracy: 0.1198 - val_loss: 5.7654 - val_accuracy: 0.1344\n",
            "Epoch 7/15\n",
            "242/242 [==============================] - 65s 268ms/step - loss: 5.7264 - accuracy: 0.1384 - val_loss: 5.6175 - val_accuracy: 0.1476\n",
            "Epoch 8/15\n",
            "242/242 [==============================] - 65s 268ms/step - loss: 5.5944 - accuracy: 0.1511 - val_loss: 5.5037 - val_accuracy: 0.1596\n",
            "Epoch 9/15\n",
            "242/242 [==============================] - 65s 268ms/step - loss: 5.4880 - accuracy: 0.1619 - val_loss: 5.4110 - val_accuracy: 0.1685\n",
            "Epoch 10/15\n",
            "242/242 [==============================] - 65s 269ms/step - loss: 5.4038 - accuracy: 0.1707 - val_loss: 5.3422 - val_accuracy: 0.1758\n",
            "Epoch 11/15\n",
            "242/242 [==============================] - 65s 268ms/step - loss: 5.3430 - accuracy: 0.1773 - val_loss: 5.2954 - val_accuracy: 0.1822\n",
            "Epoch 12/15\n",
            "242/242 [==============================] - 65s 269ms/step - loss: 5.3005 - accuracy: 0.1830 - val_loss: 5.2632 - val_accuracy: 0.1869\n",
            "Epoch 13/15\n",
            "242/242 [==============================] - 65s 269ms/step - loss: 5.2702 - accuracy: 0.1868 - val_loss: 5.2407 - val_accuracy: 0.1896\n",
            "Epoch 14/15\n",
            "242/242 [==============================] - 65s 269ms/step - loss: 5.2473 - accuracy: 0.1894 - val_loss: 5.2234 - val_accuracy: 0.1912\n",
            "Epoch 15/15\n",
            "242/242 [==============================] - 65s 269ms/step - loss: 5.2292 - accuracy: 0.1913 - val_loss: 5.2098 - val_accuracy: 0.1930\n"
          ],
          "name": "stdout"
        }
      ]
    },
    {
      "cell_type": "code",
      "metadata": {
        "id": "mvNw0uH8o1QL",
        "colab_type": "code",
        "outputId": "3c51b23b-d796-4619-8cd9-8ef308774967",
        "colab": {
          "base_uri": "https://localhost:8080/",
          "height": 85
        }
      },
      "source": [
        "e=model.layers[0]\n",
        "weights=e.get_weights()[0]\n",
        "print(weights.shape)\n",
        "print(weights[0])"
      ],
      "execution_count": 37,
      "outputs": [
        {
          "output_type": "stream",
          "text": [
            "(12000, 16)\n",
            "[-0.02034237  0.02659469  0.00271029 -0.00903394 -0.04101688 -0.02434638\n",
            "  0.03959414 -0.00675958 -0.01314499  0.01992316 -0.02450718  0.0412205\n",
            " -0.01057801 -0.04735582  0.01818277 -0.02035305]\n"
          ],
          "name": "stdout"
        }
      ]
    },
    {
      "cell_type": "code",
      "metadata": {
        "id": "bUl7Et7diIy3",
        "colab_type": "code",
        "outputId": "3c726f41-ad97-4161-b76d-8ee3682b8868",
        "colab": {
          "base_uri": "https://localhost:8080/",
          "height": 119
        }
      },
      "source": [
        "def word_to_vec_map(word):\n",
        "  return (weights[word_index[word]])\n",
        "print(word_to_vec_map(\"man\"))\n",
        "print(word_to_vec_map(\"woman\"))"
      ],
      "execution_count": 39,
      "outputs": [
        {
          "output_type": "stream",
          "text": [
            "[ 0.1303756   0.35489193 -0.6018018  -0.1583862  -0.62503725 -0.31603724\n",
            "  0.39467123  0.12872306  0.78713113  0.15401688 -0.00230335  0.37285587\n",
            "  0.18536443  0.27989727  0.31603816  0.2652128 ]\n",
            "[ 0.09517043  0.18084747 -0.56795335 -0.05641099 -0.6964467  -0.3820631\n",
            "  0.43506452  0.26050898  0.82597584  0.24597847  0.02744375  0.36315998\n",
            "  0.3007749   0.3103087   0.31499344  0.26753712]\n"
          ],
          "name": "stdout"
        }
      ]
    },
    {
      "cell_type": "code",
      "metadata": {
        "id": "woIGTXr6vmNt",
        "colab_type": "code",
        "colab": {}
      },
      "source": [
        "def cosine_similarity(u, v):\n",
        "    \n",
        "    distance = 0.0\n",
        "\n",
        "    dot = np.dot(u, v)\n",
        "\n",
        "    norm_u = np.sqrt(np.sum(u * u))\n",
        "    \n",
        "    norm_v = np.sqrt(np.sum(v * v))\n",
        "    \n",
        "    cosine_similarity = dot / (norm_u * norm_v)\n",
        "    \n",
        "    return cosine_similarity"
      ],
      "execution_count": 0,
      "outputs": []
    },
    {
      "cell_type": "code",
      "metadata": {
        "id": "pYSnpGILBdOc",
        "colab_type": "code",
        "outputId": "2177ffc8-f62c-4162-e2ea-428f3fed0cda",
        "colab": {
          "base_uri": "https://localhost:8080/",
          "height": 34
        }
      },
      "source": [
        "king=weights[word_index[\"king\"]]\n",
        "queen=weights[word_index[\"queen\"]]\n",
        "print(cosine_similarity(king,queen))"
      ],
      "execution_count": 47,
      "outputs": [
        {
          "output_type": "stream",
          "text": [
            "0.94621897\n"
          ],
          "name": "stdout"
        }
      ]
    },
    {
      "cell_type": "code",
      "metadata": {
        "id": "BMTmPlbKEKBW",
        "colab_type": "code",
        "colab": {}
      },
      "source": [
        "import io\n",
        "\n",
        "out_v = io.open('vecs.tsv', 'w', encoding='utf-8')\n",
        "out_m = io.open('meta.tsv', 'w', encoding='utf-8')\n",
        "for word_num in range(1, vocab_size):\n",
        "  word = reverse_word_index[word_num]\n",
        "  embeddings = weights[word_num]\n",
        "  out_m.write(word + \"\\n\")\n",
        "  out_v.write('\\t'.join([str(x) for x in embeddings]) + \"\\n\")\n",
        "out_v.close()\n",
        "out_m.close()"
      ],
      "execution_count": 0,
      "outputs": []
    },
    {
      "cell_type": "code",
      "metadata": {
        "id": "aIW3N4n2NrbE",
        "colab_type": "code",
        "colab": {}
      },
      "source": [
        "try:\n",
        "  from google.colab import files\n",
        "except ImportError:\n",
        "  pass\n",
        "else:\n",
        "  files.download('vecs.tsv')\n",
        "  files.download('meta.tsv')"
      ],
      "execution_count": 0,
      "outputs": []
    },
    {
      "cell_type": "markdown",
      "metadata": {
        "id": "2xw9eocTIMO7",
        "colab_type": "text"
      },
      "source": [
        "Now using these trained embeddings to classify reviews"
      ]
    },
    {
      "cell_type": "code",
      "metadata": {
        "id": "DlhNy5OfPhTk",
        "colab_type": "code",
        "colab": {}
      },
      "source": [
        "num_words=vocab_size\n",
        "embedding_matrix=np.zeros((num_words,embedding_dim))\n",
        "for word,i in word_index.items():\n",
        "  if(i>=num_words):\n",
        "    continue\n",
        "  embedding_vector=word_to_vec_map(word)\n",
        "  if embedding_vector is not None:\n",
        "    embedding_matrix[i]=embedding_vector\n"
      ],
      "execution_count": 0,
      "outputs": []
    },
    {
      "cell_type": "code",
      "metadata": {
        "id": "_v-ajoRvJiTH",
        "colab_type": "code",
        "colab": {
          "base_uri": "https://localhost:8080/",
          "height": 272
        },
        "outputId": "c2029087-05fe-41e6-9474-259df42e0270"
      },
      "source": [
        "from tensorflow.keras.layers import Dense,Flatten,Dropout,GRU\n",
        "from tensorflow.keras.layers import Embedding,Bidirectional\n",
        "from tensorflow.keras.models import Sequential\n",
        "from tensorflow.keras.regularizers import l2\n",
        "from tensorflow.keras.initializers import Constant\n",
        "\n",
        "model = Sequential()\n",
        "embedding_layer=Embedding(vocab_size,embedding_dim,embeddings_initializer=Constant(embedding_matrix),input_length=max_length,trainable=False)\n",
        "model.add(embedding_layer)\n",
        "model.add(GRU(64))\n",
        "model.add(Dropout(0.2))\n",
        "#model.add(GRU(32))\n",
        "#model.add(Dropout(0.2))\n",
        "model.add(Dense(1,activation='sigmoid'))\n",
        "model.compile(optimizer='adam',loss='binary_crossentropy',metrics=['accuracy'])\n",
        "# view model summary\n",
        "print(model.summary())"
      ],
      "execution_count": 44,
      "outputs": [
        {
          "output_type": "stream",
          "text": [
            "Model: \"sequential_9\"\n",
            "_________________________________________________________________\n",
            "Layer (type)                 Output Shape              Param #   \n",
            "=================================================================\n",
            "embedding_8 (Embedding)      (None, 120, 16)           192000    \n",
            "_________________________________________________________________\n",
            "gru_8 (GRU)                  (None, 64)                15744     \n",
            "_________________________________________________________________\n",
            "dense_7 (Dense)              (None, 1)                 65        \n",
            "=================================================================\n",
            "Total params: 207,809\n",
            "Trainable params: 15,809\n",
            "Non-trainable params: 192,000\n",
            "_________________________________________________________________\n",
            "None\n"
          ],
          "name": "stdout"
        }
      ]
    },
    {
      "cell_type": "code",
      "metadata": {
        "id": "ptZ-SSowK9Ql",
        "colab_type": "code",
        "colab": {
          "base_uri": "https://localhost:8080/",
          "height": 1000
        },
        "outputId": "ee53db09-b2db-4aa6-c398-38816105341b"
      },
      "source": [
        "num_epochs=40\n",
        "model.fit(padded,training_lables_final,batch_size=128,epochs=num_epochs,validation_data=(testing_padded,testing_labels_final),verbose=2)"
      ],
      "execution_count": 45,
      "outputs": [
        {
          "output_type": "stream",
          "text": [
            "Epoch 1/40\n",
            "196/196 - 3s - loss: 0.6926 - accuracy: 0.5189 - val_loss: 0.6900 - val_accuracy: 0.5336\n",
            "Epoch 2/40\n",
            "196/196 - 2s - loss: 0.6814 - accuracy: 0.5649 - val_loss: 0.6740 - val_accuracy: 0.5856\n",
            "Epoch 3/40\n",
            "196/196 - 2s - loss: 0.6660 - accuracy: 0.5979 - val_loss: 0.6674 - val_accuracy: 0.6009\n",
            "Epoch 4/40\n",
            "196/196 - 2s - loss: 0.6498 - accuracy: 0.6230 - val_loss: 0.6629 - val_accuracy: 0.5984\n",
            "Epoch 5/40\n",
            "196/196 - 2s - loss: 0.6415 - accuracy: 0.6322 - val_loss: 0.6484 - val_accuracy: 0.6247\n",
            "Epoch 6/40\n",
            "196/196 - 2s - loss: 0.6285 - accuracy: 0.6522 - val_loss: 0.6329 - val_accuracy: 0.6417\n",
            "Epoch 7/40\n",
            "196/196 - 2s - loss: 0.6173 - accuracy: 0.6589 - val_loss: 0.6216 - val_accuracy: 0.6570\n",
            "Epoch 8/40\n",
            "196/196 - 2s - loss: 0.6116 - accuracy: 0.6649 - val_loss: 0.6214 - val_accuracy: 0.6606\n",
            "Epoch 9/40\n",
            "196/196 - 2s - loss: 0.6021 - accuracy: 0.6740 - val_loss: 0.6234 - val_accuracy: 0.6508\n",
            "Epoch 10/40\n",
            "196/196 - 2s - loss: 0.5940 - accuracy: 0.6827 - val_loss: 0.5980 - val_accuracy: 0.6776\n",
            "Epoch 11/40\n",
            "196/196 - 2s - loss: 0.5806 - accuracy: 0.6934 - val_loss: 0.6041 - val_accuracy: 0.6704\n",
            "Epoch 12/40\n",
            "196/196 - 2s - loss: 0.5746 - accuracy: 0.7002 - val_loss: 0.5854 - val_accuracy: 0.6876\n",
            "Epoch 13/40\n",
            "196/196 - 2s - loss: 0.5688 - accuracy: 0.7041 - val_loss: 0.5813 - val_accuracy: 0.6931\n",
            "Epoch 14/40\n",
            "196/196 - 2s - loss: 0.5572 - accuracy: 0.7126 - val_loss: 0.5741 - val_accuracy: 0.6968\n",
            "Epoch 15/40\n",
            "196/196 - 2s - loss: 0.5459 - accuracy: 0.7207 - val_loss: 0.5756 - val_accuracy: 0.6963\n",
            "Epoch 16/40\n",
            "196/196 - 2s - loss: 0.5369 - accuracy: 0.7276 - val_loss: 0.5586 - val_accuracy: 0.7060\n",
            "Epoch 17/40\n",
            "196/196 - 2s - loss: 0.5244 - accuracy: 0.7334 - val_loss: 0.5569 - val_accuracy: 0.7092\n",
            "Epoch 18/40\n",
            "196/196 - 2s - loss: 0.5184 - accuracy: 0.7374 - val_loss: 0.5492 - val_accuracy: 0.7176\n",
            "Epoch 19/40\n",
            "196/196 - 2s - loss: 0.5094 - accuracy: 0.7436 - val_loss: 0.5451 - val_accuracy: 0.7200\n",
            "Epoch 20/40\n",
            "196/196 - 2s - loss: 0.4970 - accuracy: 0.7493 - val_loss: 0.5400 - val_accuracy: 0.7242\n",
            "Epoch 21/40\n",
            "196/196 - 2s - loss: 0.4896 - accuracy: 0.7556 - val_loss: 0.5293 - val_accuracy: 0.7251\n",
            "Epoch 22/40\n",
            "196/196 - 2s - loss: 0.4801 - accuracy: 0.7628 - val_loss: 0.5160 - val_accuracy: 0.7348\n",
            "Epoch 23/40\n",
            "196/196 - 2s - loss: 0.4714 - accuracy: 0.7690 - val_loss: 0.5165 - val_accuracy: 0.7416\n",
            "Epoch 24/40\n",
            "196/196 - 2s - loss: 0.4677 - accuracy: 0.7709 - val_loss: 0.5191 - val_accuracy: 0.7396\n",
            "Epoch 25/40\n",
            "196/196 - 2s - loss: 0.4582 - accuracy: 0.7770 - val_loss: 0.5088 - val_accuracy: 0.7456\n",
            "Epoch 26/40\n",
            "196/196 - 2s - loss: 0.4510 - accuracy: 0.7814 - val_loss: 0.5006 - val_accuracy: 0.7482\n",
            "Epoch 27/40\n",
            "196/196 - 2s - loss: 0.4439 - accuracy: 0.7822 - val_loss: 0.5018 - val_accuracy: 0.7452\n",
            "Epoch 28/40\n",
            "196/196 - 2s - loss: 0.4362 - accuracy: 0.7914 - val_loss: 0.5018 - val_accuracy: 0.7518\n",
            "Epoch 29/40\n",
            "196/196 - 2s - loss: 0.4297 - accuracy: 0.7919 - val_loss: 0.5027 - val_accuracy: 0.7528\n",
            "Epoch 30/40\n",
            "196/196 - 2s - loss: 0.4260 - accuracy: 0.7982 - val_loss: 0.5095 - val_accuracy: 0.7542\n",
            "Epoch 31/40\n",
            "196/196 - 2s - loss: 0.4199 - accuracy: 0.7990 - val_loss: 0.5098 - val_accuracy: 0.7593\n",
            "Epoch 32/40\n",
            "196/196 - 2s - loss: 0.4154 - accuracy: 0.8018 - val_loss: 0.5349 - val_accuracy: 0.7294\n",
            "Epoch 33/40\n",
            "196/196 - 2s - loss: 0.4124 - accuracy: 0.8040 - val_loss: 0.4916 - val_accuracy: 0.7571\n",
            "Epoch 34/40\n",
            "196/196 - 2s - loss: 0.4053 - accuracy: 0.8092 - val_loss: 0.4946 - val_accuracy: 0.7591\n",
            "Epoch 35/40\n",
            "196/196 - 2s - loss: 0.4046 - accuracy: 0.8096 - val_loss: 0.4988 - val_accuracy: 0.7591\n",
            "Epoch 36/40\n",
            "196/196 - 2s - loss: 0.3919 - accuracy: 0.8174 - val_loss: 0.4972 - val_accuracy: 0.7601\n",
            "Epoch 37/40\n",
            "196/196 - 2s - loss: 0.3859 - accuracy: 0.8203 - val_loss: 0.5091 - val_accuracy: 0.7601\n",
            "Epoch 38/40\n",
            "196/196 - 2s - loss: 0.3863 - accuracy: 0.8190 - val_loss: 0.5026 - val_accuracy: 0.7586\n",
            "Epoch 39/40\n",
            "196/196 - 2s - loss: 0.3798 - accuracy: 0.8231 - val_loss: 0.5249 - val_accuracy: 0.7557\n",
            "Epoch 40/40\n",
            "196/196 - 2s - loss: 0.3764 - accuracy: 0.8257 - val_loss: 0.5046 - val_accuracy: 0.7575\n"
          ],
          "name": "stdout"
        },
        {
          "output_type": "execute_result",
          "data": {
            "text/plain": [
              "<tensorflow.python.keras.callbacks.History at 0x7f9eeb3179e8>"
            ]
          },
          "metadata": {
            "tags": []
          },
          "execution_count": 45
        }
      ]
    },
    {
      "cell_type": "code",
      "metadata": {
        "id": "b1Sk8ij1AyHC",
        "colab_type": "code",
        "colab": {}
      },
      "source": [
        ""
      ],
      "execution_count": 0,
      "outputs": []
    }
  ]
}